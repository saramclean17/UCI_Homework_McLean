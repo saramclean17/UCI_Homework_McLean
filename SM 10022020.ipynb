{
 "cells": [
  {
   "cell_type": "markdown",
   "metadata": {},
   "source": [
    "### Note\n",
    "* Instructions have been included for each segment. You do not have to follow them exactly, but they are included to help you think through the steps."
   ]
  },
  {
   "cell_type": "code",
   "execution_count": 10,
   "metadata": {},
   "outputs": [],
   "source": [
    "# Dependencies and Setup\n",
    "import pandas as pd\n",
    "\n",
    "# File to Load (Remember to Change These)\n",
    "school_data_to_load = \"Resources/schools_complete.csv\"\n",
    "student_data_to_load = \"Resources/students_complete.csv\"\n",
    "\n",
    "# Read School and Student Data File and store into Pandas DataFrames\n",
    "school_data = pd.read_csv(school_data_to_load)\n",
    "student_data = pd.read_csv(student_data_to_load)\n",
    "\n",
    "# Combine the data into a single dataset.  \n",
    "school_data_complete = pd.merge(student_data,school_data, how=\"left\", on=[\"school_name\", \"school_name\"])"
   ]
  },
  {
   "cell_type": "markdown",
   "metadata": {},
   "source": [
    "## District Summary\n",
    "\n",
    "* Calculate the total number of schools\n",
    "\n",
    "* Calculate the total number of students\n",
    "\n",
    "* Calculate the total budget\n",
    "\n",
    "* Calculate the average math score \n",
    "\n",
    "* Calculate the average reading score\n",
    "\n",
    "* Calculate the percentage of students with a passing math score (70 or greater)\n",
    "\n",
    "* Calculate the percentage of students with a passing reading score (70 or greater)\n",
    "\n",
    "* Calculate the percentage of students who passed math **and** reading (% Overall Passing)\n",
    "\n",
    "* Create a dataframe to hold the above results\n",
    "\n",
    "* Optional: give the displayed data cleaner formatting"
   ]
  },
  {
   "cell_type": "code",
   "execution_count": 11,
   "metadata": {},
   "outputs": [
    {
     "ename": "NameError",
     "evalue": "name 'school_data_complete_df' is not defined",
     "output_type": "error",
     "traceback": [
      "\u001b[0;31m---------------------------------------------------------------------------\u001b[0m",
      "\u001b[0;31mNameError\u001b[0m                                 Traceback (most recent call last)",
      "\u001b[0;32m<ipython-input-11-fe5b25e7732c>\u001b[0m in \u001b[0;36m<module>\u001b[0;34m\u001b[0m\n\u001b[1;32m      1\u001b[0m \u001b[0;31m#Calculate total number of schools\u001b[0m\u001b[0;34m\u001b[0m\u001b[0;34m\u001b[0m\u001b[0;34m\u001b[0m\u001b[0m\n\u001b[0;32m----> 2\u001b[0;31m \u001b[0mtotal_schools\u001b[0m \u001b[0;34m=\u001b[0m \u001b[0mlen\u001b[0m\u001b[0;34m(\u001b[0m\u001b[0mschool_data_complete_df\u001b[0m\u001b[0;34m[\u001b[0m\u001b[0;34m'School ID'\u001b[0m\u001b[0;34m]\u001b[0m\u001b[0;34m)\u001b[0m\u001b[0;34m\u001b[0m\u001b[0;34m\u001b[0m\u001b[0m\n\u001b[0m\u001b[1;32m      3\u001b[0m \u001b[0;34m\u001b[0m\u001b[0m\n\u001b[1;32m      4\u001b[0m \u001b[0;31m#Calculate total number of students\u001b[0m\u001b[0;34m\u001b[0m\u001b[0;34m\u001b[0m\u001b[0;34m\u001b[0m\u001b[0m\n\u001b[1;32m      5\u001b[0m \u001b[0mtotal_students\u001b[0m \u001b[0;34m=\u001b[0m \u001b[0mschool_data_complete_df\u001b[0m\u001b[0;34m[\u001b[0m\u001b[0;34m'size'\u001b[0m\u001b[0;34m]\u001b[0m\u001b[0;34m.\u001b[0m\u001b[0msum\u001b[0m\u001b[0;34m(\u001b[0m\u001b[0;34m)\u001b[0m\u001b[0;34m\u001b[0m\u001b[0;34m\u001b[0m\u001b[0m\n",
      "\u001b[0;31mNameError\u001b[0m: name 'school_data_complete_df' is not defined"
     ]
    }
   ],
   "source": [
    "#Calculate total number of schools\n",
    "total_schools = len(school_data_complete_df['School ID'])\n",
    "\n",
    "#Calculate total number of students\n",
    "total_students = school_data_complete_df['size'].sum()\n",
    "\n",
    "#Calculate total budget\n",
    "total_budget = school_data_complete_df['budget'].sum()\n",
    "\n",
    "#Calculate average math score\n",
    "average_math_score = round(student_data_complete_df['math_score'].mean(),6)\n",
    "\n",
    "#Calculate average reading score\n",
    "average_reading_score = round(student_data_complete_df['reading_score'].mean(),5)\n",
    "\n",
    "#Calculate the percentage of students with passing math score(>=70)\n",
    "students_passing_math = student_data_complete_df.loc[student_data_complete_df[\"math_score\"] > 70,:]\n",
    "percent_passing_math = round(float(students_passing_math['math_score'].count()/total_students)*100,6)\n",
    "\n",
    "#Calculate the percentage of students with passing reading score(<70)\n",
    "students_passing_reading = student_data_complete_df.loc[student_data_complete_df[\"reading_score\"] >70,:]\n",
    "percent_passing_reading = round(float(students_passing_reading[\"reading_score\"].count()/total_students)*100,6)\n",
    "\n",
    "#Calculate the percentage of students who passed math and reading(% overall passing)\n",
    "overall_passing_rate =round((percent_passing_math + percent_passing_reading)/2,6)\n",
    "\n",
    "#Create dataframe to hold results\n",
    "summary_df = pd.DataFrame({\"Total Schools\":[total_schools],\n",
    "                          \"Total Students\":[total_students],\n",
    "                          \"Total Budget\":[total_budget],\n",
    "                          \"Average Math Score\":[average_math_score],\n",
    "                          \"Average Reading Score\":[average_reading_score],\n",
    "                          \"Percent Passing Math\":[percent_passing_math],\n",
    "                          \"Percent Passing Reading\":[percent_passing_reading],\n",
    "                          \"Percent Overall Passing Rate\":[overall_passing_rate]})\n",
    "\n",
    "\n",
    "#Clean Format\n",
    "district_summary_df = pd.DataFrame(summary_df, columns=[\"Total Schools\",\n",
    "                                                        \"Total Students\",\n",
    "                                                        \"Total Budget\",\n",
    "                                                        \"Average Math Score\",\n",
    "                                                        \"Average Reading Score\",\n",
    "                                                        \"Percent Passing Math\",\n",
    "                                                        \"Percent Passing Reading\",\n",
    "                                                       \"Percent Overall Passing Rate\"])\n",
    "district_summary_df[\"Total Students\"] = district_summary_df[\"Total Students\"].map('{:,}'.format)\n",
    "district_summary_df[\"Total Budget\"] = district_summary_df[\"Total Budget\"].map('${:,.2f}'.format)\n",
    "\n",
    "district_summary_df\n"
   ]
  },
  {
   "cell_type": "markdown",
   "metadata": {},
   "source": [
    "## School Summary"
   ]
  },
  {
   "cell_type": "markdown",
   "metadata": {},
   "source": [
    "* Create an overview table that summarizes key metrics about each school, including:\n",
    "  * School Name\n",
    "  * School Type\n",
    "  * Total Students\n",
    "  * Total School Budget\n",
    "  * Per Student Budget\n",
    "  * Average Math Score\n",
    "  * Average Reading Score\n",
    "  * % Passing Math\n",
    "  * % Passing Reading\n",
    "  * % Overall Passing (The percentage of students that passed math **and** reading.)\n",
    "  \n",
    "* Create a dataframe to hold the above results"
   ]
  },
  {
   "cell_type": "code",
   "execution_count": 12,
   "metadata": {},
   "outputs": [
    {
     "ename": "SyntaxError",
     "evalue": "invalid syntax (<ipython-input-12-0fd9194e57e8>, line 6)",
     "output_type": "error",
     "traceback": [
      "\u001b[0;36m  File \u001b[0;32m\"<ipython-input-12-0fd9194e57e8>\"\u001b[0;36m, line \u001b[0;32m6\u001b[0m\n\u001b[0;31m    school_type = school_data_complete_df.groupby('school')['type'].unique()\u001b[0m\n\u001b[0m    ^\u001b[0m\n\u001b[0;31mSyntaxError\u001b[0m\u001b[0;31m:\u001b[0m invalid syntax\n"
     ]
    }
   ],
   "source": [
    "#Create table with school name as label in first column \n",
    "schools_complete_df = schools_complete_df.rename(columns={\"name\": \"school\"}\n",
    "\n",
    "\n",
    "#Create column with school type\n",
    "school_type = school_data_complete_df.groupby('school')['type'].unique()\n",
    "school_type = school_type.str[0]                               \n",
    "\n",
    "#Create column with total students\n",
    "student_count = school_data_complete_df['school'].value_counts()                                                 \n",
    "                                                 \n",
    "\n",
    "#Create column with total school budget\n",
    "budget_per_school = school_data_complete_df.groupby('school')['budget'].count()\n",
    "                                                 \n",
    "\n",
    "#Create column for per student budget\n",
    "budget_per_student = school_data_complete_df.set_index('school')['budget']/school_data_complete_df.set_index('school')['size']                                      \n",
    "\n",
    "#Create column for average math score\n",
    "school_average_math = round(school_data__complete_df.groupby('school')['math_score'].mean(),2)                                   \n",
    "\n",
    "#Create column for average reading score\n",
    "school_average_reading = round(school_data__complete_df.groupby('school')['reading_score'].mean(),2)\n",
    "                                                 \n",
    "#Confirm which students had scores above 70 in both math and reading\n",
    "passing_df = school_data__complete_df.loc[(school_data_complete_df['math_score'] >=70) \n",
    "                                          & (school_data_complete_df['reading_score'] >=70)]\n",
    "passing_math_df = school_data_complete_df.loc[(school_data_complete_df['math_score'] >=70)]\n",
    "passing_reading_df = school_data_complete_df.loc[(school_data_complete_df['reading_score'] >=70)]  \n",
    "                                                 \n",
    "\n",
    "#Create a column for percent passing math\n",
    "percent_passing_math = round((passing_math_df.groupby('school')['math_score'].count()/student_count)*100,1)                                           \n",
    "                                            \n",
    "#Create a column for percent passing reading\n",
    "percent_passing_reading = round((passing_reading_df.groupby('school')['reading_score'].count()/student_count)*100,1)                                               \n",
    "\n",
    "#Create a column for percent overall passing\n",
    "overall_passing_percent = round((percent_passing_math + percent_passing_reading)/2, 2)\n",
    "                                                 \n",
    "#print results of summary table\n",
    "school_summary_df = pd.DataFrame({\"School Type\":school_type,\n",
    "                                \"Total Students\":student_count,\n",
    "                                \"Total School Budget\":budget_per_school,\n",
    "                                \"Budget Per Student\":budget_per_student,\n",
    "                                \"Average Math Score\": school_average_math,\n",
    "                                \"Average Reading Score\": school_average_reading,\n",
    "                                \"% Passing Math\": percent_passing_math,\n",
    "                                \"% Passing Reading\": percent_passing_reading,\n",
    "                                \"% Overall Passing Rate\":overall_passing_percent},columns=[\"School Type\",\n",
    "                                                        \"Total Students\",\n",
    "                                                        \"Total School Budget\",\n",
    "                                                        \"Budget Per Student\",\n",
    "                                                        \"Average Math Score\",\n",
    "                                                        \"Average Reading Score\",\n",
    "                                                        \"% Passing Math\",\n",
    "                                                       \"% Passing Reading\",\n",
    "                                                        \"% Overall Passing Rate\"])\n",
    "                                                 \n",
    "school_summary_df[\"Total Students\"] = school_summary_df[\"Total Students\"].map('{:,}'.format)\n",
    "school_summary_df[\"Total School Budget\"] = school_summary_df[\"Total School Budget\"].map('${:,.2f}'.format)\n",
    "school_summary_df[\"Budget Per Student\"] = school_summary_df[\"Budget Per Student\"].map('${:,.2f}'.format)\n",
    "school_summary_df\n",
    "                                                 \n",
    "                                                 "
   ]
  },
  {
   "cell_type": "markdown",
   "metadata": {},
   "source": [
    "## Top Performing Schools (By % Overall Passing)"
   ]
  },
  {
   "cell_type": "markdown",
   "metadata": {},
   "source": [
    "* Sort and display the top five performing schools by % overall passing."
   ]
  },
  {
   "cell_type": "code",
   "execution_count": 13,
   "metadata": {
    "scrolled": true
   },
   "outputs": [
    {
     "ename": "NameError",
     "evalue": "name 'school_summary_df' is not defined",
     "output_type": "error",
     "traceback": [
      "\u001b[0;31m---------------------------------------------------------------------------\u001b[0m",
      "\u001b[0;31mNameError\u001b[0m                                 Traceback (most recent call last)",
      "\u001b[0;32m<ipython-input-13-b3d9915f4f22>\u001b[0m in \u001b[0;36m<module>\u001b[0;34m\u001b[0m\n\u001b[0;32m----> 1\u001b[0;31m \u001b[0mtop_performing_schools\u001b[0m\u001b[0;34m=\u001b[0m \u001b[0mschool_summary_df\u001b[0m\u001b[0;34m.\u001b[0m\u001b[0msort_values\u001b[0m\u001b[0;34m(\u001b[0m\u001b[0;34m\"% Overall Passing Rate\"\u001b[0m\u001b[0;34m,\u001b[0m \u001b[0mascending\u001b[0m\u001b[0;34m=\u001b[0m\u001b[0;32mFalse\u001b[0m\u001b[0;34m,\u001b[0m \u001b[0minplace\u001b[0m\u001b[0;34m=\u001b[0m\u001b[0;32mFalse\u001b[0m\u001b[0;34m)\u001b[0m\u001b[0;34m\u001b[0m\u001b[0;34m\u001b[0m\u001b[0m\n\u001b[0m\u001b[1;32m      2\u001b[0m \u001b[0mtop_performing_schools\u001b[0m\u001b[0;34m.\u001b[0m\u001b[0mhead\u001b[0m\u001b[0;34m(\u001b[0m\u001b[0;34m)\u001b[0m\u001b[0;34m\u001b[0m\u001b[0;34m\u001b[0m\u001b[0m\n",
      "\u001b[0;31mNameError\u001b[0m: name 'school_summary_df' is not defined"
     ]
    }
   ],
   "source": [
    "top_performing_schools= school_summary_df.sort_values(\"% Overall Passing Rate\", ascending=False, inplace=False)\n",
    "top_performing_schools.head()"
   ]
  },
  {
   "cell_type": "markdown",
   "metadata": {},
   "source": [
    "## Bottom Performing Schools (By % Overall Passing)"
   ]
  },
  {
   "cell_type": "markdown",
   "metadata": {},
   "source": [
    "* Sort and display the five worst-performing schools by % overall passing."
   ]
  },
  {
   "cell_type": "code",
   "execution_count": 11,
   "metadata": {},
   "outputs": [
    {
     "data": {
      "text/html": [
       "<div>\n",
       "<style scoped>\n",
       "    .dataframe tbody tr th:only-of-type {\n",
       "        vertical-align: middle;\n",
       "    }\n",
       "\n",
       "    .dataframe tbody tr th {\n",
       "        vertical-align: top;\n",
       "    }\n",
       "\n",
       "    .dataframe thead th {\n",
       "        text-align: right;\n",
       "    }\n",
       "</style>\n",
       "<table border=\"1\" class=\"dataframe\">\n",
       "  <thead>\n",
       "    <tr style=\"text-align: right;\">\n",
       "      <th></th>\n",
       "      <th>School Type</th>\n",
       "      <th>Total Students</th>\n",
       "      <th>Total School Budget</th>\n",
       "      <th>Per Student Budget</th>\n",
       "      <th>Average Math Score</th>\n",
       "      <th>Average Reading Score</th>\n",
       "      <th>% Passing Math</th>\n",
       "      <th>% Passing Reading</th>\n",
       "      <th>% Overall Passing</th>\n",
       "    </tr>\n",
       "  </thead>\n",
       "  <tbody>\n",
       "    <tr>\n",
       "      <th>Rodriguez High School</th>\n",
       "      <td>District</td>\n",
       "      <td>3999</td>\n",
       "      <td>$2,547,363.00</td>\n",
       "      <td>$637.00</td>\n",
       "      <td>76.842711</td>\n",
       "      <td>80.744686</td>\n",
       "      <td>66.366592</td>\n",
       "      <td>80.220055</td>\n",
       "      <td>52.988247</td>\n",
       "    </tr>\n",
       "    <tr>\n",
       "      <th>Figueroa High School</th>\n",
       "      <td>District</td>\n",
       "      <td>2949</td>\n",
       "      <td>$1,884,411.00</td>\n",
       "      <td>$639.00</td>\n",
       "      <td>76.711767</td>\n",
       "      <td>81.158020</td>\n",
       "      <td>65.988471</td>\n",
       "      <td>80.739234</td>\n",
       "      <td>53.204476</td>\n",
       "    </tr>\n",
       "    <tr>\n",
       "      <th>Huang High School</th>\n",
       "      <td>District</td>\n",
       "      <td>2917</td>\n",
       "      <td>$1,910,635.00</td>\n",
       "      <td>$655.00</td>\n",
       "      <td>76.629414</td>\n",
       "      <td>81.182722</td>\n",
       "      <td>65.683922</td>\n",
       "      <td>81.316421</td>\n",
       "      <td>53.513884</td>\n",
       "    </tr>\n",
       "    <tr>\n",
       "      <th>Hernandez High School</th>\n",
       "      <td>District</td>\n",
       "      <td>4635</td>\n",
       "      <td>$3,022,020.00</td>\n",
       "      <td>$652.00</td>\n",
       "      <td>77.289752</td>\n",
       "      <td>80.934412</td>\n",
       "      <td>66.752967</td>\n",
       "      <td>80.862999</td>\n",
       "      <td>53.527508</td>\n",
       "    </tr>\n",
       "    <tr>\n",
       "      <th>Johnson High School</th>\n",
       "      <td>District</td>\n",
       "      <td>4761</td>\n",
       "      <td>$3,094,650.00</td>\n",
       "      <td>$650.00</td>\n",
       "      <td>77.072464</td>\n",
       "      <td>80.966394</td>\n",
       "      <td>66.057551</td>\n",
       "      <td>81.222432</td>\n",
       "      <td>53.539172</td>\n",
       "    </tr>\n",
       "  </tbody>\n",
       "</table>\n",
       "</div>"
      ],
      "text/plain": [
       "                      School Type  Total Students Total School Budget  \\\n",
       "Rodriguez High School    District            3999       $2,547,363.00   \n",
       "Figueroa High School     District            2949       $1,884,411.00   \n",
       "Huang High School        District            2917       $1,910,635.00   \n",
       "Hernandez High School    District            4635       $3,022,020.00   \n",
       "Johnson High School      District            4761       $3,094,650.00   \n",
       "\n",
       "                      Per Student Budget  Average Math Score  \\\n",
       "Rodriguez High School            $637.00           76.842711   \n",
       "Figueroa High School             $639.00           76.711767   \n",
       "Huang High School                $655.00           76.629414   \n",
       "Hernandez High School            $652.00           77.289752   \n",
       "Johnson High School              $650.00           77.072464   \n",
       "\n",
       "                       Average Reading Score  % Passing Math  \\\n",
       "Rodriguez High School              80.744686       66.366592   \n",
       "Figueroa High School               81.158020       65.988471   \n",
       "Huang High School                  81.182722       65.683922   \n",
       "Hernandez High School              80.934412       66.752967   \n",
       "Johnson High School                80.966394       66.057551   \n",
       "\n",
       "                       % Passing Reading  % Overall Passing  \n",
       "Rodriguez High School          80.220055          52.988247  \n",
       "Figueroa High School           80.739234          53.204476  \n",
       "Huang High School              81.316421          53.513884  \n",
       "Hernandez High School          80.862999          53.527508  \n",
       "Johnson High School            81.222432          53.539172  "
      ]
     },
     "execution_count": 11,
     "metadata": {},
     "output_type": "execute_result"
    }
   ],
   "source": [
    "Bottom_performing_schools= school_summary_df.sort_values(\"% Overall Passing Rate\", ascending=True, inplace=False)\n",
    "Bottom_performing_schools.head()"
   ]
  },
  {
   "cell_type": "markdown",
   "metadata": {
    "collapsed": true
   },
   "source": [
    "## Math Scores by Grade"
   ]
  },
  {
   "cell_type": "markdown",
   "metadata": {},
   "source": [
    "* Create a table that lists the average Reading Score for students of each grade level (9th, 10th, 11th, 12th) at each school.\n",
    "\n",
    "  * Create a pandas series for each grade. Hint: use a conditional statement.\n",
    "  \n",
    "  * Group each series by school\n",
    "  \n",
    "  * Combine the series into a dataframe\n",
    "  \n",
    "  * Optional: give the displayed data cleaner formatting"
   ]
  },
  {
   "cell_type": "code",
   "execution_count": 14,
   "metadata": {},
   "outputs": [
    {
     "ename": "NameError",
     "evalue": "name 'students_complete_df' is not defined",
     "output_type": "error",
     "traceback": [
      "\u001b[0;31m---------------------------------------------------------------------------\u001b[0m",
      "\u001b[0;31mNameError\u001b[0m                                 Traceback (most recent call last)",
      "\u001b[0;32m<ipython-input-14-2084764eec03>\u001b[0m in \u001b[0;36m<module>\u001b[0;34m\u001b[0m\n\u001b[1;32m      3\u001b[0m \u001b[0;34m\u001b[0m\u001b[0m\n\u001b[1;32m      4\u001b[0m \u001b[0;31m#Group each series by school\u001b[0m\u001b[0;34m\u001b[0m\u001b[0;34m\u001b[0m\u001b[0;34m\u001b[0m\u001b[0m\n\u001b[0;32m----> 5\u001b[0;31m \u001b[0mstudents_complete_df\u001b[0m\u001b[0;34m[\u001b[0m\u001b[0;34m\"grade\"\u001b[0m\u001b[0;34m]\u001b[0m \u001b[0;34m=\u001b[0m \u001b[0mstudents_complete_df\u001b[0m\u001b[0;34m[\u001b[0m\u001b[0;34m'grade'\u001b[0m\u001b[0;34m]\u001b[0m\u001b[0;34m.\u001b[0m\u001b[0mastype\u001b[0m\u001b[0;34m(\u001b[0m\u001b[0mCategoricalDtype\u001b[0m\u001b[0;34m(\u001b[0m\u001b[0;34m[\u001b[0m\u001b[0;34m\"9th\"\u001b[0m\u001b[0;34m,\u001b[0m \u001b[0;34m\"10th\"\u001b[0m\u001b[0;34m,\u001b[0m\u001b[0;34m\"11th\"\u001b[0m\u001b[0;34m,\u001b[0m\u001b[0;34m\"12th\"\u001b[0m\u001b[0;34m]\u001b[0m\u001b[0;34m)\u001b[0m\u001b[0;34m)\u001b[0m\u001b[0;34m\u001b[0m\u001b[0;34m\u001b[0m\u001b[0m\n\u001b[0m\u001b[1;32m      6\u001b[0m \u001b[0;34m\u001b[0m\u001b[0m\n\u001b[1;32m      7\u001b[0m \u001b[0;31m#Combine the series into a dataframe to show math grades\u001b[0m\u001b[0;34m\u001b[0m\u001b[0;34m\u001b[0m\u001b[0;34m\u001b[0m\u001b[0m\n",
      "\u001b[0;31mNameError\u001b[0m: name 'students_complete_df' is not defined"
     ]
    }
   ],
   "source": [
    "#Create pandas series for each grade\n",
    "from pandas.api.types import CategoricalDtype\n",
    "\n",
    "#Group each series by school\n",
    "students_complete_df[\"grade\"] = students_complete_df['grade'].astype(CategoricalDtype([\"9th\", \"10th\",\"11th\",\"12th\"]))\n",
    "\n",
    "#Combine the series into a dataframe to show math grades\n",
    "math_scores_grade = round(students_complete_df.pivot_table(index=\"school\", columns=\"grade\", values=\"math_score\"),2)\n",
    "math_scores_grade.index.name = None \n",
    "math_scores_grade"
   ]
  },
  {
   "cell_type": "markdown",
   "metadata": {},
   "source": [
    "## Reading Score by Grade "
   ]
  },
  {
   "cell_type": "markdown",
   "metadata": {},
   "source": [
    "* Perform the same operations as above for reading scores"
   ]
  },
  {
   "cell_type": "code",
   "execution_count": 15,
   "metadata": {},
   "outputs": [
    {
     "ename": "NameError",
     "evalue": "name 'students_complete_df' is not defined",
     "output_type": "error",
     "traceback": [
      "\u001b[0;31m---------------------------------------------------------------------------\u001b[0m",
      "\u001b[0;31mNameError\u001b[0m                                 Traceback (most recent call last)",
      "\u001b[0;32m<ipython-input-15-933036b7e5d4>\u001b[0m in \u001b[0;36m<module>\u001b[0;34m\u001b[0m\n\u001b[1;32m      2\u001b[0m \u001b[0;34m\u001b[0m\u001b[0m\n\u001b[1;32m      3\u001b[0m \u001b[0;31m#Group each series by school\u001b[0m\u001b[0;34m\u001b[0m\u001b[0;34m\u001b[0m\u001b[0;34m\u001b[0m\u001b[0m\n\u001b[0;32m----> 4\u001b[0;31m \u001b[0mstudents_complete_df\u001b[0m\u001b[0;34m[\u001b[0m\u001b[0;34m'grade'\u001b[0m\u001b[0;34m]\u001b[0m \u001b[0;34m=\u001b[0m \u001b[0mstudents_complete_df\u001b[0m\u001b[0;34m[\u001b[0m\u001b[0;34m'grade'\u001b[0m\u001b[0;34m]\u001b[0m\u001b[0;34m.\u001b[0m\u001b[0mastype\u001b[0m\u001b[0;34m(\u001b[0m\u001b[0mCategoricalDtype\u001b[0m\u001b[0;34m(\u001b[0m\u001b[0;34m[\u001b[0m\u001b[0;34m\"9th\"\u001b[0m\u001b[0;34m,\u001b[0m \u001b[0;34m\"10th\"\u001b[0m\u001b[0;34m,\u001b[0m\u001b[0;34m\"11th\"\u001b[0m\u001b[0;34m,\u001b[0m\u001b[0;34m\"12th\"\u001b[0m\u001b[0;34m]\u001b[0m\u001b[0;34m)\u001b[0m\u001b[0;34m)\u001b[0m\u001b[0;34m\u001b[0m\u001b[0;34m\u001b[0m\u001b[0m\n\u001b[0m\u001b[1;32m      5\u001b[0m \u001b[0;34m\u001b[0m\u001b[0m\n\u001b[1;32m      6\u001b[0m \u001b[0;31m#Combine the series into a dataframe to show reading grades\u001b[0m\u001b[0;34m\u001b[0m\u001b[0;34m\u001b[0m\u001b[0;34m\u001b[0m\u001b[0m\n",
      "\u001b[0;31mNameError\u001b[0m: name 'students_complete_df' is not defined"
     ]
    }
   ],
   "source": [
    "#Create pandas series for each grade\n",
    "\n",
    "#Group each series by school \n",
    "students_complete_df['grade'] = students_complete_df['grade'].astype(CategoricalDtype([\"9th\", \"10th\",\"11th\",\"12th\"]))\n",
    "\n",
    "#Combine the series into a dataframe to show reading grades\n",
    "reading_scores_grade = round(students_complete_df.pivot_table(index=\"school\", columns=\"grade\", values=\"reading_score\"),2)\n",
    "reading_scores_grade.index.name = None\n",
    "reading_scores_grade\n"
   ]
  },
  {
   "cell_type": "markdown",
   "metadata": {},
   "source": [
    "## Scores by School Spending"
   ]
  },
  {
   "cell_type": "markdown",
   "metadata": {},
   "source": [
    "* Create a table that breaks down school performances based on average Spending Ranges (Per Student). Use 4 reasonable bins to group school spending. Include in the table each of the following:\n",
    "  * Average Math Score\n",
    "  * Average Reading Score\n",
    "  * % Passing Math\n",
    "  * % Passing Reading\n",
    "  * Overall Passing Rate (Average of the above two)"
   ]
  },
  {
   "cell_type": "code",
   "execution_count": 16,
   "metadata": {},
   "outputs": [
    {
     "ename": "NameError",
     "evalue": "name 'budget_per_student' is not defined",
     "output_type": "error",
     "traceback": [
      "\u001b[0;31m---------------------------------------------------------------------------\u001b[0m",
      "\u001b[0;31mNameError\u001b[0m                                 Traceback (most recent call last)",
      "\u001b[0;32m<ipython-input-16-44e4325ee5c7>\u001b[0m in \u001b[0;36m<module>\u001b[0;34m\u001b[0m\n\u001b[1;32m      5\u001b[0m \u001b[0;34m\u001b[0m\u001b[0m\n\u001b[1;32m      6\u001b[0m \u001b[0;31m#Calculate average spending range\u001b[0m\u001b[0;34m\u001b[0m\u001b[0;34m\u001b[0m\u001b[0;34m\u001b[0m\u001b[0m\n\u001b[0;32m----> 7\u001b[0;31m \u001b[0mschool_summary_df\u001b[0m\u001b[0;34m[\u001b[0m\u001b[0;34m\"Spending Ranges(Per Student)\"\u001b[0m\u001b[0;34m]\u001b[0m \u001b[0;34m=\u001b[0m \u001b[0mpd\u001b[0m\u001b[0;34m.\u001b[0m\u001b[0mcut\u001b[0m\u001b[0;34m(\u001b[0m\u001b[0mbudget_per_student\u001b[0m\u001b[0;34m,\u001b[0m \u001b[0mbins\u001b[0m\u001b[0;34m=\u001b[0m\u001b[0mspending_bins\u001b[0m\u001b[0;34m,\u001b[0m \u001b[0mlabels\u001b[0m\u001b[0;34m=\u001b[0m\u001b[0mspending_range\u001b[0m\u001b[0;34m)\u001b[0m\u001b[0;34m\u001b[0m\u001b[0;34m\u001b[0m\u001b[0m\n\u001b[0m\u001b[1;32m      8\u001b[0m \u001b[0mschool_summary_df\u001b[0m\u001b[0;34m.\u001b[0m\u001b[0mhead\u001b[0m\u001b[0;34m(\u001b[0m\u001b[0;34m)\u001b[0m\u001b[0;34m\u001b[0m\u001b[0;34m\u001b[0m\u001b[0m\n\u001b[1;32m      9\u001b[0m \u001b[0;34m\u001b[0m\u001b[0m\n",
      "\u001b[0;31mNameError\u001b[0m: name 'budget_per_student' is not defined"
     ]
    }
   ],
   "source": [
    "#Create a table to break down school performances based on average spending per student\n",
    "#Create bins to group school spending\n",
    "spending_bins = [0, 585, 615, 645, 675]\n",
    "spending_range = [\"<$585\", \"$585-615\", \"$615-645\", \"$645-675\"]\n",
    "\n",
    "#Calculate average spending range\n",
    "school_summary_df[\"Spending Ranges(Per Student)\"] = pd.cut(budget_per_student, bins=spending_bins, labels=spending_range)\n",
    "school_summary_df.head()\n",
    "\n",
    "#Calculate average math and reading scores\n",
    "spending_math_score = school_summary_df.groupby([\"Spending Ranges(Per Student)\"])[\"Average Math Score\"].mean()\n",
    "spending_reading_score = school_summary_df.groupby([\"Spending Ranges(Per Student)\"])[\"Average Reading Score\"].mean()\n",
    "\n",
    "#Calculate % passing math\n",
    "spending_passing_math = school_summary_df.groupby([\"Spending Ranges(Per Student)\"])[\"% Passing Math\"].mean()\n",
    "\n",
    "#Calculate % passing reading\n",
    "spending_passing_reading = school_summary_df.groupby([\"Spending Ranges(Per Student)\"])['% Passing Reading'].mean()\n",
    "\n",
    "\n",
    "#Calculate overall passing rate\n",
    "overall_passing_rate = (spending_passing_math + spending_passing_reading)/2\n",
    "\n",
    "#Create dataframe to store results\n",
    "scores_by_spending = pd.DataFrame (\n",
    "    {\"Average Math Score\": spending_math_score,\n",
    "    \"Average Reading Score\": spending_reading_score,\n",
    "    \"% Passing Math\": spending_passing_math,\n",
    "    \"% Passing Reading\": spending_passing_reading,\n",
    "    \"Overall Passing Rate\": overall_passing_rate})\n",
    "scores_by_spending\n",
    "\n",
    "\n",
    "\n"
   ]
  },
  {
   "cell_type": "markdown",
   "metadata": {},
   "source": [
    "## Scores by School Size"
   ]
  },
  {
   "cell_type": "markdown",
   "metadata": {},
   "source": [
    "* Perform the same operations as above, based on school size."
   ]
  },
  {
   "cell_type": "code",
   "execution_count": 17,
   "metadata": {
    "scrolled": true
   },
   "outputs": [
    {
     "ename": "NameError",
     "evalue": "name 'school_summary_df' is not defined",
     "output_type": "error",
     "traceback": [
      "\u001b[0;31m---------------------------------------------------------------------------\u001b[0m",
      "\u001b[0;31mNameError\u001b[0m                                 Traceback (most recent call last)",
      "\u001b[0;32m<ipython-input-17-5c032c12e646>\u001b[0m in \u001b[0;36m<module>\u001b[0;34m\u001b[0m\n\u001b[1;32m      4\u001b[0m \u001b[0mgroup_names\u001b[0m \u001b[0;34m=\u001b[0m \u001b[0;34m[\u001b[0m\u001b[0;34m\"small (<1000)\"\u001b[0m\u001b[0;34m,\u001b[0m \u001b[0;34m\"Medium(1000-2000)\"\u001b[0m\u001b[0;34m,\u001b[0m \u001b[0;34m\"Large(2000-5000)\"\u001b[0m\u001b[0;34m]\u001b[0m\u001b[0;34m\u001b[0m\u001b[0;34m\u001b[0m\u001b[0m\n\u001b[1;32m      5\u001b[0m \u001b[0;34m\u001b[0m\u001b[0m\n\u001b[0;32m----> 6\u001b[0;31m \u001b[0mschool_size_df\u001b[0m \u001b[0;34m=\u001b[0m \u001b[0mschool_summary_df\u001b[0m\u001b[0;34m\u001b[0m\u001b[0;34m\u001b[0m\u001b[0m\n\u001b[0m\u001b[1;32m      7\u001b[0m \u001b[0mschool_size_df\u001b[0m\u001b[0;34m[\u001b[0m\u001b[0;34m\"School Size\"\u001b[0m\u001b[0;34m]\u001b[0m \u001b[0;34m=\u001b[0m \u001b[0mpd\u001b[0m\u001b[0;34m.\u001b[0m\u001b[0mcut\u001b[0m\u001b[0;34m(\u001b[0m\u001b[0mstudent_count\u001b[0m\u001b[0;34m,\u001b[0m \u001b[0mbins\u001b[0m\u001b[0;34m=\u001b[0m\u001b[0msize_bins\u001b[0m\u001b[0;34m,\u001b[0m \u001b[0mlabels\u001b[0m\u001b[0;34m=\u001b[0m\u001b[0mgroup_names\u001b[0m\u001b[0;34m)\u001b[0m\u001b[0;34m\u001b[0m\u001b[0;34m\u001b[0m\u001b[0m\n\u001b[1;32m      8\u001b[0m \u001b[0mschool_size_df\u001b[0m\u001b[0;34m\u001b[0m\u001b[0;34m\u001b[0m\u001b[0m\n",
      "\u001b[0;31mNameError\u001b[0m: name 'school_summary_df' is not defined"
     ]
    }
   ],
   "source": [
    "#Create a table to break down school performances based on school size\n",
    "#Create bins to group school size\n",
    "size_bins = [0, 1000, 2000, 5000]\n",
    "group_names = [\"small (<1000)\", \"Medium(1000-2000)\", \"Large(2000-5000)\"]\n",
    "\n",
    "school_size_df = school_summary_df\n",
    "school_size_df[\"School Size\"] = pd.cut(student_count, bins=size_bins, labels=group_names)\n",
    "school_size_df\n",
    "\n",
    "\n",
    "#Calculate average math score and reading score\n",
    "spending_math_score = school_size_df.groupby([\"School Size\"])[\"Average Math Score\"].mean()\n",
    "spending_reading_score = school_size_df.groupby([\"School Size\"])[\"Average Reading Score\"].mean()\n",
    "\n",
    "#Calculate % passing math\n",
    "spending_passing_math = school_size_df.groupby([\"School Size\"])[\"% Passing Math\"].mean()\n",
    "\n",
    "\n",
    "#Calculate % passing reading\n",
    "spending_passing_reading = school_size_df.groupby([\"School Size\"])['% Passing Reading'].mean()\n",
    "\n",
    "\n",
    "#Calculate % passing grades overall\n",
    "overall_passing_rate = (spending_passing_math + spending_passing_reading)/2\n",
    "\n",
    "#Create dataframe to store contents\n",
    "scores_by_size = pd.DataFrame ({\"Average Math Score\": spending_math_score,\n",
    "    \"Average Reading Score\": spending_reading_score,\n",
    "    \"% Passing Math\": spending_passing_math,\n",
    "    \"% Passing Reading\": spending_passing_reading,\n",
    "    \"Overall Passing Rate\": overall_passing_rate})\n",
    "scores_by_size\n",
    "\n",
    "\n"
   ]
  },
  {
   "cell_type": "markdown",
   "metadata": {},
   "source": [
    "## Scores by School Type"
   ]
  },
  {
   "cell_type": "markdown",
   "metadata": {},
   "source": [
    "* Perform the same operations as above, based on school type"
   ]
  },
  {
   "cell_type": "code",
   "execution_count": 18,
   "metadata": {},
   "outputs": [
    {
     "ename": "NameError",
     "evalue": "name 'school_summary_df' is not defined",
     "output_type": "error",
     "traceback": [
      "\u001b[0;31m---------------------------------------------------------------------------\u001b[0m",
      "\u001b[0;31mNameError\u001b[0m                                 Traceback (most recent call last)",
      "\u001b[0;32m<ipython-input-18-622dd9e32011>\u001b[0m in \u001b[0;36m<module>\u001b[0;34m\u001b[0m\n\u001b[1;32m      1\u001b[0m \u001b[0;31m#Perform same calculations as above based on school type\u001b[0m\u001b[0;34m\u001b[0m\u001b[0;34m\u001b[0m\u001b[0;34m\u001b[0m\u001b[0m\n\u001b[1;32m      2\u001b[0m \u001b[0;34m\u001b[0m\u001b[0m\n\u001b[0;32m----> 3\u001b[0;31m scores_school_type = school_summary_df[[\"School Type\",\"Average Math Score\",\n\u001b[0m\u001b[1;32m      4\u001b[0m                                         \u001b[0;34m\"Average Reading Score\"\u001b[0m\u001b[0;34m,\u001b[0m\u001b[0;34m\u001b[0m\u001b[0;34m\u001b[0m\u001b[0m\n\u001b[1;32m      5\u001b[0m                                         \u001b[0;34m\"% Passing Math\"\u001b[0m\u001b[0;34m,\u001b[0m\u001b[0;34m\u001b[0m\u001b[0;34m\u001b[0m\u001b[0m\n",
      "\u001b[0;31mNameError\u001b[0m: name 'school_summary_df' is not defined"
     ]
    }
   ],
   "source": [
    "#Perform same calculations as above based on school type\n",
    "\n",
    "scores_school_type = school_summary_df[[\"School Type\",\"Average Math Score\",\n",
    "                                        \"Average Reading Score\", \n",
    "                                        \"% Passing Math\", \n",
    "                                        \"% Passing Reading\", \n",
    "                                        \"% Overall Passing Rate\"]]\n",
    "scores_school_type = scores_school_type.groupby('School Type').mean()\n",
    "scores_school_type\n"
   ]
  },
  {
   "cell_type": "code",
   "execution_count": null,
   "metadata": {},
   "outputs": [],
   "source": []
  }
 ],
 "metadata": {
  "anaconda-cloud": {},
  "kernel_info": {
   "name": "python3"
  },
  "kernelspec": {
   "display_name": "Python [conda env:PythonData] *",
   "language": "python",
   "name": "conda-env-PythonData-py"
  },
  "language_info": {
   "codemirror_mode": {
    "name": "ipython",
    "version": 3
   },
   "file_extension": ".py",
   "mimetype": "text/x-python",
   "name": "python",
   "nbconvert_exporter": "python",
   "pygments_lexer": "ipython3",
   "version": "3.8.5"
  },
  "latex_envs": {
   "LaTeX_envs_menu_present": true,
   "autoclose": false,
   "autocomplete": true,
   "bibliofile": "biblio.bib",
   "cite_by": "apalike",
   "current_citInitial": 1,
   "eqLabelWithNumbers": true,
   "eqNumInitial": 1,
   "hotkeys": {
    "equation": "Ctrl-E",
    "itemize": "Ctrl-I"
   },
   "labels_anchors": false,
   "latex_user_defs": false,
   "report_style_numbering": false,
   "user_envs_cfg": false
  },
  "nteract": {
   "version": "0.8.4"
  }
 },
 "nbformat": 4,
 "nbformat_minor": 1
}
